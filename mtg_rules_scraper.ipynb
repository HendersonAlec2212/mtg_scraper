{
 "cells": [
  {
   "cell_type": "markdown",
   "id": "20021474",
   "metadata": {},
   "source": [
    "# Goal:\n",
    "\n",
    "Create a scraper to navigate the MTG website and scrape the rules for card abilities for assistance offline with card that have less common abilities and just reminder text.\n",
    "\n",
    "Expansion Idea: Scrape the rules table for each card in MTG and create a Dataset of card, cost, type/sub type and rules.\n",
    "\n",
    "This may be placed within an application that allows for searching of rules to provide quick info with potential examples/example interactions."
   ]
  },
  {
   "cell_type": "markdown",
   "id": "d92d5323",
   "metadata": {},
   "source": [
    "----------"
   ]
  },
  {
   "cell_type": "markdown",
   "id": "517442e0",
   "metadata": {},
   "source": [
    "## Steps:\n",
    "\n",
    "- acquire list of all cards\n",
    "- acquire list of all card abilities\n",
    "- consider which site(s) to scrape \n",
    "- generate iterative means of delving the various wikis for information."
   ]
  },
  {
   "cell_type": "markdown",
   "id": "6291a8c1",
   "metadata": {},
   "source": [
    "---------"
   ]
  },
  {
   "cell_type": "markdown",
   "id": "f5b2e491",
   "metadata": {},
   "source": [
    "Spells can be navigated through modification of the following URL with '%20' as the space\n",
    "https://gatherer.wizards.com/pages/card/details.aspx?name=Lightning%20Bolt\n",
    "\n",
    "sets might be gleamed from this link:\n",
    "https://gatherer.wizards.com/Pages/Default.aspx"
   ]
  },
  {
   "cell_type": "markdown",
   "id": "08e6bb70",
   "metadata": {},
   "source": [
    "---------"
   ]
  },
  {
   "cell_type": "code",
   "execution_count": 1,
   "id": "04131e73",
   "metadata": {},
   "outputs": [],
   "source": [
    "from splinter import Browser\n",
    "from bs4 import BeautifulSoup\n",
    "from webdriver_manager.chrome import ChromeDriverManager"
   ]
  },
  {
   "cell_type": "code",
   "execution_count": 2,
   "id": "530c3de9",
   "metadata": {},
   "outputs": [
    {
     "name": "stderr",
     "output_type": "stream",
     "text": [
      "\n",
      "\n",
      "====== WebDriver manager ======\n",
      "Current google-chrome version is 102.0.5005\n",
      "Get LATEST chromedriver version for 102.0.5005 google-chrome\n",
      "Trying to download new driver from https://chromedriver.storage.googleapis.com/102.0.5005.61/chromedriver_win32.zip\n",
      "Driver has been saved in cache [C:\\Users\\Alec\\.wdm\\drivers\\chromedriver\\win32\\102.0.5005.61]\n"
     ]
    }
   ],
   "source": [
    "# set up splinter\n",
    "executable_path = {'executable_path': ChromeDriverManager().install()}\n",
    "browser = Browser('chrome', **executable_path, headless=False)"
   ]
  },
  {
   "cell_type": "code",
   "execution_count": 3,
   "id": "50b77dab",
   "metadata": {},
   "outputs": [],
   "source": [
    "url = 'https://gatherer.wizards.com/Pages/Default.aspx'\n",
    "browser.visit(url)"
   ]
  },
  {
   "cell_type": "code",
   "execution_count": 4,
   "id": "deec43a2",
   "metadata": {},
   "outputs": [],
   "source": [
    "# create the soup object\n",
    "html = browser.html\n",
    "mtg_soup = BeautifulSoup(html, 'html.parser')\n",
    "\n",
    "# Goal - Gain a list of all sets to use in simple search on MTG gatherer.wizards \n",
    "# site to then use to build card name dataset for further scraping\n",
    "\n",
    "\n",
    "# isolate the div containing the card set options\n",
    "search_section_div = mtg_soup.find_all('div', class_ = 'style-select')"
   ]
  },
  {
   "cell_type": "code",
   "execution_count": 5,
   "id": "041a1711",
   "metadata": {},
   "outputs": [],
   "source": [
    "# separte card set from the select boxes\n",
    "card_set = search_section_div[1]\n",
    "\n",
    "# turn all <options> into a list\n",
    "card_set_options = card_set.find_all('option')"
   ]
  },
  {
   "cell_type": "code",
   "execution_count": 6,
   "id": "64d3e5a7",
   "metadata": {},
   "outputs": [
    {
     "data": {
      "text/plain": [
       "'Adventures in the Forgotten Realms'"
      ]
     },
     "execution_count": 6,
     "metadata": {},
     "output_type": "execute_result"
    }
   ],
   "source": [
    "# test text grab\n",
    "card_set_options[1].get_text()"
   ]
  },
  {
   "cell_type": "code",
   "execution_count": 7,
   "id": "01cfa6b1",
   "metadata": {},
   "outputs": [],
   "source": [
    "# create list of all set by extracting the text from the options.\n",
    "set_list = []\n",
    "for i,option in enumerate(card_set_options):\n",
    "    text = option.get_text()\n",
    "    if len(text)>0:\n",
    "        set_list.append(text)\n",
    "    else:\n",
    "        continue"
   ]
  },
  {
   "cell_type": "code",
   "execution_count": 11,
   "id": "c10767b5",
   "metadata": {},
   "outputs": [
    {
     "data": {
      "text/plain": [
       "['Adventures in the Forgotten Realms',\n",
       " 'Adventures in the Forgotten Realms Commander',\n",
       " 'Aether Revolt',\n",
       " 'Alara Reborn',\n",
       " 'Alliances',\n",
       " 'Amonkhet',\n",
       " 'Amonkhet Remastered',\n",
       " 'Antiquities',\n",
       " 'Apocalypse',\n",
       " 'Arabian Nights']"
      ]
     },
     "execution_count": 11,
     "metadata": {},
     "output_type": "execute_result"
    }
   ],
   "source": [
    "set_list[:10]"
   ]
  },
  {
   "cell_type": "code",
   "execution_count": 5,
   "id": "f691b65e",
   "metadata": {},
   "outputs": [],
   "source": [
    "set_list = ['Adventures in the Forgotten Realms','Adventures in the Forgotten Realms Commander','Aether Revolt','Alara Reborn','Alliances','Amonkhet','Amonkhet Remastered','Antiquities','Apocalypse','Arabian Nights','Archenemy','Archenemy: Nicol Bolas','Arena Base Set','Avacyn Restored','Battle for Zendikar','Battle Royale Box Set','Battlebond','Beatdown Box Set','Betrayers of Kamigawa','Born of the Gods','Champions of Kamigawa','Chronicles','Classic Sixth Edition','Coldsnap','Commander 2013 Edition','Commander 2014','Commander 2015','Commander 2016','Commander 2017','Commander 2018','Commander 2019','Commander 2021','Commander Anthology','Commander Anthology 2018','Commander Collection: Green','Commander Legends',\"Commander's Arsenal\",'Conflux','Conspiracy: Take the Crown','Core Set 2019','Core Set 2020','Core Set 2021','Dark Ascension','Darksteel','Dissension','Dominaria','Double Masters',\"Dragon's Maze\",'Dragons of Tarkir','Duel Decks Anthology, Divine vs. Demonic','Duel Decks Anthology, Elves vs. Goblins','Duel Decks Anthology, Garruk vs. Liliana','Duel Decks Anthology, Jace vs. Chandra','Duel Decks: Ajani vs. Nicol Bolas','Duel Decks: Blessed vs. Cursed','Duel Decks: Divine vs. Demonic','Duel Decks: Elspeth vs. Kiora','Duel Decks: Elspeth vs. Tezzeret','Duel Decks: Elves vs. Goblins','Duel Decks: Elves vs. Inventors','Duel Decks: Garruk vs. Liliana','Duel Decks: Heroes vs. Monsters','Duel Decks: Izzet vs. Golgari','Duel Decks: Jace vs. Chandra','Duel Decks: Jace vs. Vraska','Duel Decks: Knights vs. Dragons','Duel Decks: Merfolk vs. Goblins','Duel Decks: Mind vs. Might','Duel Decks: Nissa vs. Ob Nixilis','Duel Decks: Phyrexia vs. the Coalition','Duel Decks: Sorin vs. Tibalt','Duel Decks: Speed vs. Cunning','Duel Decks: Venser vs. Koth','Duel Decks: Zendikar vs. Eldrazi','Eighth Edition','Eldritch Moon','Eternal Masters','Eventide','Exodus','Explorers of Ixalan','Fallen Empires','Fate Reforged','Fifth Dawn','Fifth Edition','Fourth Edition','From the Vault: Angels','From the Vault: Annihilation (2014)','From the Vault: Dragons','From the Vault: Exiled','From the Vault: Legends','From the Vault: Lore','From the Vault: Realms','From the Vault: Relics','From the Vault: Transform','From the Vault: Twenty','Future Sight','Game Night','Game Night 2019','Gatecrash','Gift Pack','Global Series: Jiang Yanggu and Mu Yanling','Guild Kit: Azorius','Guild Kit: Boros','Guild Kit: Dimir','Guild Kit: Golgari','Guild Kit: Gruul','Guild Kit: Izzet','Guild Kit: Orzhov','Guild Kit: Rakdos','Guild Kit: Selesnya','Guild Kit: Simic','Guildpact','Guilds of Ravnica','Guilds of Ravnica Mythic Edition','Historic Anthology 1','Historic Anthology 2','Historic Anthology 3','Historic Anthology 4','Historic Anthology 5','Homelands','Hour of Devastation','Ice Age','Iconic Masters','Ikoria Commander','Ikoria: Lair of Behemoths','Innistrad','Innistrad: Crimson Vow','Innistrad: Crimson Vow Commander','Innistrad: Midnight Hunt','Innistrad: Midnight Hunt Alchemy','Innistrad: Midnight Hunt Commander','Invasion','Ixalan','Journey into Nyx','Judgment','Jumpstart','Jumpstart: Historic Horizons','Kaladesh','Kaladesh Remastered','Kaldheim','Kaldheim Commander','Kamigawa: Neon Dynasty','Kamigawa: Neon Dynasty Alchemy','Kamigawa: Neon Dynasty Commander','Khans of Tarkir','Legends','Legions','Limited Edition Alpha','Limited Edition Beta','Lorwyn','Magic 2010','Magic 2011','Magic 2012','Magic 2013','Magic 2014 Core Set','Magic 2015 Core Set','Magic Origins','Magic: The Gathering-Commander','Magic: The Gathering—Conspiracy','Masterpiece Series: Amonkhet Invocations','Masterpiece Series: Kaladesh Inventions','Masters 25','Masters Edition','Masters Edition II','Masters Edition III','Masters Edition IV','Mercadian Masques','Mirage','Mirrodin','Mirrodin Besieged','Modern Event Deck 2014','Modern Horizons','Modern Horizons 2','Modern Masters','Modern Masters 2015 Edition','Modern Masters 2017 Edition','Morningtide','Mystery Booster','Nemesis','New Phyrexia','Ninth Edition','Oath of the Gatewatch','Odyssey','Onslaught','Planar Chaos','Planechase','Planechase 2012 Edition','Planechase Anthology','Planeshift','Portal','Portal Second Age','Portal Three Kingdoms','Premium Deck Series: Fire and Lightning','Premium Deck Series: Graveborn','Premium Deck Series: Slivers','Promo set for Gatherer','Prophecy','Ravnica Allegiance','Ravnica Allegiance Mythic Edition','Ravnica: City of Guilds','Return to Ravnica','Revised Edition','Rise of the Eldrazi','Rivals of Ixalan','Saviors of Kamigawa','Scars of Mirrodin','Scourge','Secret Lair Drop','Seventh Edition','Shadowmoor','Shadows over Innistrad','Shards of Alara','Signature Spellbook: Gideon','Signature Spellbook: Jace','Starter 1999','Starter 2000','Streets of New Capenna','Streets of New Capenna Commander','Strixhaven Mystical Archive','Strixhaven: School of Mages','Stronghold','Tempest','Tempest Remastered','Tenth Edition','The Dark','Theros','Theros Beyond Death','Throne of Eldraine','Time Spiral','Time Spiral \"Timeshifted\"','Time Spiral Remastered','Torment',\"Ugin's Fate promos\",'Ultimate Box Toppers','Ultimate Masters','Unglued','Unhinged','Unlimited Edition','Unsanctioned','Unstable',\"Urza's Destiny\",\"Urza's Legacy\",\"Urza's Saga\",'Vanguard','Vintage Masters','Visions','War of the Spark','War of the Spark Mythic Edition','Weatherlight','Welcome Deck 2016','Welcome Deck 2017','Worldwake','Zendikar','Zendikar Expeditions','Zendikar Rising','Zendikar Rising Commander','Zendikar Rising Expeditions']"
   ]
  },
  {
   "cell_type": "markdown",
   "id": "39bc5c1b",
   "metadata": {},
   "source": [
    "gatherer.wizards returns more or less than the amount of card listed in teh set from the MTG wiki\n",
    "\n",
    "I want to find out why.\n",
    "\n",
    "I will oull up all of the cards in the gathere site from the aether revolt set\n",
    "- gatherer lists 194 cards in the set.\n",
    "- MTG wiki lists 184\n",
    "\n",
    "someone is either incorrect or there are reprints listed in the gatherer site.\n",
    "\n",
    "when parsing the cards will need to incorporate logic to allow a switch the next page\n",
    "    parse number of available links for extraction\n",
    "        for loop to extract, then nav to page two,three,nth somehow\n",
    "        IDEA: find in HTML where page numbers are located and set loop-end to max INT from extracted values.\n",
    "        \n",
    "set up logic for iterating through a dictionary of card sets then have:\n",
    "card_dict['set']['card_name']['attribute1'] = \"\"code to extract the attributes\"\"\n",
    "card_dict['set']['card_name']['attribute2'] = \"\"code to extract the attributes\"\"\n",
    "\n",
    "stuff to record:\n",
    "    - multiverseid:\n",
    "        test = card_list[0].attrs['href']\n",
    "        test.split('=')\n",
    "        multiverseid = test[-1]\n",
    "        \n"
   ]
  },
  {
   "cell_type": "code",
   "execution_count": 6,
   "id": "2345857f",
   "metadata": {},
   "outputs": [],
   "source": [
    "url_01 = 'https://gatherer.wizards.com/Pages/Search/Default.aspx?set=[%22Aether+Revolt%22]'\n",
    "# URLs can be parsed by replacing \" with %22   &  whitespace with +\n",
    "\n",
    "url_02 = 'https://gatherer.wizards.com/Pages/Search/Default.aspx?set=[%22Alara+Reborn%22]'\n",
    "\n",
    "\n",
    "browser.visit(url_01)\n",
    "\n"
   ]
  },
  {
   "cell_type": "code",
   "execution_count": 7,
   "id": "5a265924",
   "metadata": {},
   "outputs": [],
   "source": [
    "# create the soup object\n",
    "html = browser.html\n",
    "# soup object\n",
    "search_from_set_soup = BeautifulSoup(html, 'html.parser')\n",
    "\n",
    "# Goal - Gain a list of all sets to use in simple search on MTG gatherer.wizards \n",
    "# site to then use to build card name dataset for further scraping\n",
    "\n",
    "\n",
    "# isolate the div containing the cards from the search\n",
    "cardList = search_from_set_soup.find('div', class_ = 'cardList') \n",
    "\n",
    "# the return from a search generates a table that contains all cards\n",
    "# cardTable = cardList.find('table', class_='cardItemTable')\n",
    "\n",
    "# isolate the <span> tags for the hrefs and the card names to the actual card information\n",
    "card_info_list = cardList.find_all('td', class_='middleCol')\n",
    "\n",
    "\n",
    "# <td> class='middlecol'\n",
    "# contains all of the information about the cards minus the href\n",
    "# uses imgs as the mana symbols but also uses alt= number or color to indicate detailed mana costs\n",
    "# will have to extract the alts from the <td> for each of the elements in the resulting lists then preserve order of \n",
    "# mana costs while incorporating logic to know when a card is done being parsed/when to move on to the next card in list.\n",
    "\n",
    "# different abilities in the card, rules text is separated by <p> tags.\n",
    "# parse those and add to the card_dict as list of elements?\n",
    "# add card_info_dict['set']['card_name']['rules_text'] = [<p>,<p>,<p>,<p>,]\n",
    "# OR\n",
    "# add card_info_dict['set']['card_name']['rules_text']['line_{i}'] = for each <p>\n",
    "\n"
   ]
  },
  {
   "cell_type": "code",
   "execution_count": 23,
   "id": "ba5570f4",
   "metadata": {},
   "outputs": [],
   "source": [
    "# <td class=\"middleCol\">\n",
    "# <div class=\"clear\"></div>\n",
    "# <div class=\"cardInfo\">\n",
    "# <span class=\"cardTitle\"><a id=\"ctl00_ctl00_ctl00_MainContent_SubContent_SubContent_ctl00_listRepeater_ctl00_cardTitle\" onclick=\"return CardLinkAction(event, this, 'SameWindow');\" href=\"../Card/Details.aspx?multiverseid=423808\">Aegis Automaton</a></span> \n",
    "# <span class=\"manaCost\"><img src=\"/Handlers/Image.ashx?size=small&amp;name=2&amp;type=symbol\" alt=\"2\" align=\"absbottom\"></span> (<span class=\"convertedManaCost\">2</span>)\n",
    "# <br>\n",
    "# <span class=\"typeLine\">Artifact Creature  — Construct(0/3)</span>\n",
    "# <br>\n",
    "# <div class=\"rulesText\"><p><img src=\"/Handlers/Image.ashx?size=small&amp;name=4&amp;type=symbol\" alt=\"4\" align=\"absbottom\"><img src=\"/Handlers/Image.ashx?size=small&amp;name=W&amp;type=symbol\" alt=\"White\" align=\"absbottom\">: Return another target creature you control to its owner's hand.</p></div>\n",
    "# </div>\n",
    "# </td>"
   ]
  },
  {
   "cell_type": "markdown",
   "id": "fbc46e48",
   "metadata": {},
   "source": [
    "for i in card_info_list:\n",
    "    name = card_info_list[0].find('span', class_='cardTitle').text.split('\\n')[-1]\n",
    "\n",
    "    href = card_info_list[i].find('a').attrs['href']\n",
    "\n",
    "    multiverse_id = card_info_list[i].find('a').attrs['href'].split('=')[-1]"
   ]
  },
  {
   "cell_type": "code",
   "execution_count": 10,
   "id": "b79a5637",
   "metadata": {
    "scrolled": true
   },
   "outputs": [
    {
     "data": {
      "text/plain": [
       "[<td class=\"middleCol\">\n",
       " <div class=\"clear\"></div>\n",
       " <div class=\"cardInfo\">\n",
       " <span class=\"cardTitle\">\n",
       " <a href=\"../Card/Details.aspx?multiverseid=423808\" id=\"ctl00_ctl00_ctl00_MainContent_SubContent_SubContent_ctl00_listRepeater_ctl00_cardTitle\" onclick=\"return CardLinkAction(event, this, 'SameWindow');\">Aegis Automaton</a></span> <span class=\"manaCost\">\n",
       " <img align=\"absbottom\" alt=\"2\" src=\"/Handlers/Image.ashx?size=small&amp;name=2&amp;type=symbol\"/></span> (<span class=\"convertedManaCost\">2</span>)\n",
       "                             <br/>\n",
       " <span class=\"typeLine\">\n",
       "                                 Artifact Creature  — Construct\n",
       "                                 (0/3)</span>\n",
       " <br/>\n",
       " <div class=\"rulesText\">\n",
       " <p><img align=\"absbottom\" alt=\"4\" src=\"/Handlers/Image.ashx?size=small&amp;name=4&amp;type=symbol\"/><img align=\"absbottom\" alt=\"White\" src=\"/Handlers/Image.ashx?size=small&amp;name=W&amp;type=symbol\"/>: Return another target creature you control to its owner's hand.</p></div>\n",
       " </div>\n",
       " </td>,\n",
       " <td class=\"middleCol\">\n",
       " <div class=\"clear\"></div>\n",
       " <div class=\"cardInfo\">\n",
       " <span class=\"cardTitle\">\n",
       " <a href=\"../Card/Details.aspx?multiverseid=423668\" id=\"ctl00_ctl00_ctl00_MainContent_SubContent_SubContent_ctl00_listRepeater_ctl01_cardTitle\" onclick=\"return CardLinkAction(event, this, 'SameWindow');\">Aerial Modification</a></span> <span class=\"manaCost\">\n",
       " <img align=\"absbottom\" alt=\"4\" src=\"/Handlers/Image.ashx?size=small&amp;name=4&amp;type=symbol\"/><img align=\"absbottom\" alt=\"White\" src=\"/Handlers/Image.ashx?size=small&amp;name=W&amp;type=symbol\"/></span> (<span class=\"convertedManaCost\">5</span>)\n",
       "                             <br/>\n",
       " <span class=\"typeLine\">\n",
       "                                 Enchantment  — Aura\n",
       "                                 </span>\n",
       " <div class=\"rulesText\">\n",
       " <p>Enchant creature or Vehicle</p><p>As long as enchanted permanent is a Vehicle, it's a creature in addition to its other types.</p><p>Enchanted creature gets +2/+2 and has flying.</p></div>\n",
       " </div>\n",
       " </td>]"
      ]
     },
     "execution_count": 10,
     "metadata": {},
     "output_type": "execute_result"
    }
   ],
   "source": [
    "card_info_list[0:2]"
   ]
  },
  {
   "cell_type": "code",
   "execution_count": 9,
   "id": "8d87146c",
   "metadata": {
    "scrolled": false
   },
   "outputs": [
    {
     "data": {
      "text/plain": [
       "<td class=\"middleCol\">\n",
       "<div class=\"clear\"></div>\n",
       "<div class=\"cardInfo\">\n",
       "<span class=\"cardTitle\">\n",
       "<a href=\"../Card/Details.aspx?multiverseid=423808\" id=\"ctl00_ctl00_ctl00_MainContent_SubContent_SubContent_ctl00_listRepeater_ctl00_cardTitle\" onclick=\"return CardLinkAction(event, this, 'SameWindow');\">Aegis Automaton</a></span> <span class=\"manaCost\">\n",
       "<img align=\"absbottom\" alt=\"2\" src=\"/Handlers/Image.ashx?size=small&amp;name=2&amp;type=symbol\"/></span> (<span class=\"convertedManaCost\">2</span>)\n",
       "                            <br/>\n",
       "<span class=\"typeLine\">\n",
       "                                Artifact Creature  — Construct\n",
       "                                (0/3)</span>\n",
       "<br/>\n",
       "<div class=\"rulesText\">\n",
       "<p><img align=\"absbottom\" alt=\"4\" src=\"/Handlers/Image.ashx?size=small&amp;name=4&amp;type=symbol\"/><img align=\"absbottom\" alt=\"White\" src=\"/Handlers/Image.ashx?size=small&amp;name=W&amp;type=symbol\"/>: Return another target creature you control to its owner's hand.</p></div>\n",
       "</div>\n",
       "</td>"
      ]
     },
     "execution_count": 9,
     "metadata": {},
     "output_type": "execute_result"
    }
   ],
   "source": [
    "card_info_list[0]"
   ]
  },
  {
   "cell_type": "code",
   "execution_count": 12,
   "id": "4b6b6a3f",
   "metadata": {},
   "outputs": [],
   "source": [
    "### Notes ###\n",
    "'''\n",
    "Consider changing full word symbols into First letter capitol symbols to save space in rules text\n",
    "\n",
    "EX: change -> {Energy} to {E}\n",
    "\n",
    "This may be reverted with the implementation of Keyword-ability counters in order\n",
    "to preserve clarity if information at the cost of space , time will tell.\n",
    "\n",
    "'''\n",
    "\n",
    "symbol_rename_dict = {\n",
    "    'White':'{W}',\n",
    "    'Red':'{R}',\n",
    "    'Green':'{G}',\n",
    "    'Blue':'{U}',\n",
    "    'Black':'{B}',\n",
    "    'Colorless':'{CL}',\n",
    "    'Variable Colorless':'{X}',\n",
    "    'Energy':'{E}',\n",
    "    \n",
    "    'Zero': '{0}',\n",
    "    'One': '{1}',\n",
    "    'Two': '{2}',\n",
    "    'Three': '{3}',\n",
    "    'Four': '{4}',\n",
    "    'Five': '{5}',\n",
    "    'Six': '{6}',\n",
    "    'Seven': '{7}',\n",
    "    'Eight': '{8}',\n",
    "    'Nine': '{9}',\n",
    "    'Ten': '{10}',\n",
    "    'Eleven': '{11}',\n",
    "    'Twelve': '{12}',\n",
    "    'Thirteen': '{13}',\n",
    "    'Fourteen': '{14}',\n",
    "    'Fifteen': '{15}',\n",
    "    'Sixteen': '{16}',\n",
    "    'Seventeen': '{17}',\n",
    "    'Eighteen': '{18}',\n",
    "    'Nineteen': '{19}',\n",
    "    'Twenty': '{20}',\n",
    "    \n",
    "    '0': '{0}', \n",
    "    '1': '{1}', \n",
    "    '2': '{2}', \n",
    "    '3': '{3}', \n",
    "    '4': '{4}', \n",
    "    '5': '{5}', \n",
    "    '6': '{6}', \n",
    "    '7': '{7}', \n",
    "    '8': '{8}', \n",
    "    '9': '{9}', \n",
    "    '10': '{10}', \n",
    "    '11': '{11}', \n",
    "    '12': '{12}', \n",
    "    '13': '{13}', \n",
    "    '14': '{14}', \n",
    "    '15': '{15}', \n",
    "    '16': '{16}', \n",
    "    '17': '{17}', \n",
    "    '18': '{18}', \n",
    "    '19': '{19}', \n",
    "    '20': '{20}', \n",
    "    \n",
    "    'White or Red': '{W/R}',\n",
    "    'White or Green': '{W/G}',\n",
    "    'White or Blue': '{W/U}',\n",
    "    'White or Black': '{W/B}',\n",
    "    \n",
    "    'Red or White': '{R/W}',\n",
    "    'Red or Green': '{R/G}',\n",
    "    'Red or Blue': '{R/U}',\n",
    "    'Red or Black': '{R/B}',\n",
    "    \n",
    "    'Green or White': '{G/W}',\n",
    "    'Green or Red': '{G/R}',\n",
    "    'Green or Blue': '{G/U}',\n",
    "    'Green or Black': '{G/B}',\n",
    "    \n",
    "    'Blue or White': '{U/W}',\n",
    "    'Blue or Red': '{U/R}',\n",
    "    'Blue or Green': '{U/G}',\n",
    "    'Blue or Black': '{U/B}',\n",
    "    \n",
    "    'Black or White': '{B/W}',\n",
    "    'Black or Red': '{B/R}',\n",
    "    'Black or Green': '{B/G}',\n",
    "    'Black or Blue': '{B/U}',\n",
    "    \n",
    "    'Two or White': '{2/W}',\n",
    "    'Two or Red': '{2/R}',\n",
    "    'Two or Green': '{2/G}',\n",
    "    'Two or Blue': '{2/U}',\n",
    "    'Two or Black': '{2/B}',\n",
    "    \n",
    "    # phyrexian mana symbols\n",
    "    \n",
    "    'Phyrexian or White': '{phW}',\n",
    "    'Phyrexian or Red': '{phR}',\n",
    "    'Phyrexian or Green': '{phU}',\n",
    "    'Phyrexian or Blue': '{phG}',\n",
    "    'Phyrexian or Black': '{phB}',\n",
    "    \n",
    "    # issues in naming conventions with gatherer website\n",
    "    # https://gatherer.wizards.com/Pages/Card/Details.aspx?multiverseid=548551\n",
    "    # phG/phU is called \"variable\" and \"variable mana\"\n",
    "    # may require Unknown label until alternative means of labelling is added\n",
    "    \n",
    "    # Ideas: parse the img tag SRC for the IMG tag in <div class=value> on the card rulings page\n",
    "    # split using '&' as delimeter, isolate \"name=***\", use that as key for value pull in assigning mana symbol?\n",
    "    'Variable Mana ': '{UNK}',\n",
    "    'Variable ': '{UNK}',\n",
    "\n",
    "}\n"
   ]
  },
  {
   "cell_type": "code",
   "execution_count": null,
   "id": "9e85f2b5",
   "metadata": {},
   "outputs": [],
   "source": [
    "card_info_dict = {}\n",
    "card_info_dict['set'] = {}\n",
    "card_info_dict['set']['url'] = 'logic for parsing and setting up URLs by splitting and joining words or using .replace()'\n",
    "# perhaps pre_load the list of urls before running for all of the card attributes\n",
    "\n",
    "card_info_dict['set']['card_name'] = {} # dictionary to hold all info about the card\n",
    "card_info_dict['set']['card_name']['name'] = # found by navigating <span>s\n",
    "card_info_dict['set']['card_name']['multiverse_id'] = # created through slicing <a> link to card \n",
    "card_info_dict['set']['card_name']['navigable_url'] = # find <a> link to card\n",
    "card_info_dict['set']['card_name']['mana_cost'] = variable\n",
    "card_info_dict['set']['card_name']['type'] = [] # list to hold all possible types\n",
    "card_info_dict['set']['card_name']['sub_type'] = [] # list to hold all possible subtypes\n",
    "card_info_dict['set']['card_name']['power'] = variable\n",
    "card_info_dict['set']['card_name']['toughness'] = variable\n",
    "card_info_dict['set']['card_name']['power/toughness'] = variable\n",
    "\n",
    "card_info_dict['set']['card_name']['rules_text'] = []\n",
    "\n"
   ]
  },
  {
   "cell_type": "code",
   "execution_count": null,
   "id": "2f913ad2",
   "metadata": {},
   "outputs": [],
   "source": [
    "# for i in range(0, len(card_info_list)):\n",
    "\n",
    "i=0\n",
    "\n",
    "# ------------------------------------------------ name -------------------------------------------------------------\n",
    "# Card Name with spaces\n",
    "name = card_info_list[i]\\\n",
    "        .find('span', class_='cardTitle')\\\n",
    "        .text.split('\\n')[-1]\\\n",
    "        .replace(' ','_')\n",
    "\n",
    "# ------------------------------------------------ href -------------------------------------------------------------\n",
    "# link to the card and rulings ( I hope )\n",
    "href = card_info_list[i].find('a').attrs['href']\n",
    "\n",
    "# ------------------------------------------------ multiverse_id ----------------------------------------------------\n",
    "multiverse_id = card_info_list[i].find('a').attrs['href'].split('=')[-1]\n",
    "\n",
    "# ------------------------------------------------ detailed_mana_cost -----------------------------------------------\n",
    "# find the span containing the mana_cost\n",
    "mana_cost_info_span = card_info_list[i].find('span', class_='manaCost')\n",
    "\n",
    "img_tag_info = mana_cost_info_span.find_all('img')\n",
    "\n",
    "# set up list to hold all cleaned mana symbol names, \n",
    "## some cards have multiple mana colors, each with respective color_symbol, including hybrid mana\n",
    "mana_color_list = []\n",
    "\n",
    "# for each img, extract the name of the symbol and filter player_name via dictionary\n",
    "for i, img_tag in enumerate(img_tag_info):\n",
    "    mana_color = img_tag.attrs['alt']\n",
    "    # attrs in BS4 is accessed in Dictionary format, try/exc for handling key errors \n",
    "    try:\n",
    "        clean_alt = symbol_rename_dict[f'{mana_color}']\n",
    "    except KeyError:\n",
    "        clean_alt = mana_color\n",
    "    mana_color_list.append(clean_alt)\n",
    "#format the mana_cost to show\n",
    "# number_symbol_symbol | symbol_symbol_symbol_etc\n",
    "detailed_mana_cost = '_'.join(mana_color_list)\n",
    "\n",
    "# ------------------------------------------------ converted_mana_cost ----------------------------------------------\n",
    "converted_mana_cost = card_info_list[i].find('span', class_='convertedManaCost').text\n",
    "\n",
    "# ------------------------------------------------ Type_breakdown ------------------------------------------------\n",
    "# parse the list for the card\n",
    "# find the HTML <span> that contains the types\n",
    "# extract the text\n",
    "# replace /n with ''\n",
    "# turn into list via .split() with delimeter as ' '\n",
    "\n",
    "text_list = card_info_list[i]\\\n",
    "            .find('span',class_='typeLine')\\\n",
    "            .text\\\n",
    "            .replace('\\n','')\\\n",
    "            .split(' ')\n",
    "\n",
    "# set up list to hold types\n",
    "clean_types = []\n",
    "power_toughness = []\n",
    "# for each element, keep everything thats not empty space (the whitespace is not whitespace in the \n",
    "# HTML from the Site, it's '')\n",
    "\n",
    "for i, element in enumerate(text_list):\n",
    "    # filter to keep anything longer than 0, removing empty space\n",
    "    if (len(element)>1) or (element == '—'):\n",
    "        # prevent preserving of attk/toughness\n",
    "        if (element[0] != '('):\n",
    "            clean_types.append(element)\n",
    "        else:\n",
    "            power_toughness.append(element)\n",
    "# lists to hold the types\n",
    "main_types = []\n",
    "sub_types = []\n",
    "\n",
    "# for each item in the list, check to see if the element matches the separator '—'\n",
    "# if true: set up list slices nad create type lists from the cleaned_list\n",
    "for i, card_type in enumerate(clean_types):\n",
    "\n",
    "    if card_type == '—':\n",
    "\n",
    "        main_types = list(clean_types[:i])\n",
    "        sub_types = list(clean_types[i+1:])\n",
    "# ------------------------------------------------ power/toughness ------------------------------------------------\n",
    "\n",
    "# clean the power and toughness\n",
    "power_toughness = power_toughness[0]\\\n",
    ".replace('(','')\\\n",
    ".replace(')','')\\\n",
    ".split('/')\n",
    "\n",
    "power = power_toughness[0]\n",
    "toughness = power_toughness[1]\n",
    "\n",
    "\n",
    "# ------------------------------------------------ multiverse_id ------------------------------------------------\n"
   ]
  },
  {
   "cell_type": "markdown",
   "id": "bcef0118",
   "metadata": {},
   "source": [
    "--------------"
   ]
  },
  {
   "cell_type": "markdown",
   "id": "cd50a5b1",
   "metadata": {},
   "source": [
    "# Parsing Non-Standard Coutners: \n",
    "## Energy"
   ]
  },
  {
   "cell_type": "markdown",
   "id": "60aff0bc",
   "metadata": {},
   "source": [
    "The goal of this section is to extract the rules text from a card, parse for non-standard counters and then insert the words for those counters/symbols into the extracted rules text.\n",
    "\n",
    "The Gatherer website uses IMG tags for representation of the non-standard counters and symbols, but when scraped, then IMG returns either NULL text or a title-cased word to represent the symbol/counter.\n",
    "\n",
    "Because if this we will be utilizing a dictionary to return the proper values for each returned word and implementing a means of counting and inserting title-cased words for each IMG tag used to represent the symbols without mucking up the rules text so that it can be properly stored into a data base later."
   ]
  },
  {
   "cell_type": "code",
   "execution_count": 13,
   "id": "a60b6976",
   "metadata": {},
   "outputs": [
    {
     "data": {
      "text/plain": [
       "'Whenever Aether Chaser attacks, you may pay . If you do, create a 1/1 colorless Servo artifact creature token.'"
      ]
     },
     "execution_count": 13,
     "metadata": {},
     "output_type": "execute_result"
    }
   ],
   "source": [
    "rules_text_list = card_info_list[3].find('div', class_='rulesText').find_all('p')\n",
    "lines_of_rules_text = len(rules_text_list)\n",
    "rules_text_list[2].text"
   ]
  },
  {
   "cell_type": "code",
   "execution_count": 29,
   "id": "06e38968",
   "metadata": {},
   "outputs": [
    {
     "data": {
      "text/plain": [
       "3"
      ]
     },
     "execution_count": 29,
     "metadata": {},
     "output_type": "execute_result"
    }
   ],
   "source": [
    "lines_of_rules_text"
   ]
  },
  {
   "cell_type": "code",
   "execution_count": 30,
   "id": "3a0d3524",
   "metadata": {
    "scrolled": true
   },
   "outputs": [
    {
     "data": {
      "text/plain": [
       "[<p>First strike</p>,\n",
       " <p>When Aether Chaser enters the battlefield, you get <img align=\"absbottom\" alt=\"Energy\" src=\"/Handlers/Image.ashx?size=small&amp;name=e&amp;type=symbol\"/><img align=\"absbottom\" alt=\"Energy\" src=\"/Handlers/Image.ashx?size=small&amp;name=e&amp;type=symbol\"/> <i>(two energy counters)</i>.</p>,\n",
       " <p>Whenever Aether Chaser attacks, you may pay <img align=\"absbottom\" alt=\"Energy\" src=\"/Handlers/Image.ashx?size=small&amp;name=e&amp;type=symbol\"/><img align=\"absbottom\" alt=\"Energy\" src=\"/Handlers/Image.ashx?size=small&amp;name=e&amp;type=symbol\"/>. If you do, create a 1/1 colorless Servo artifact creature token.</p>]"
      ]
     },
     "execution_count": 30,
     "metadata": {},
     "output_type": "execute_result"
    }
   ],
   "source": [
    "rules_text_list"
   ]
  },
  {
   "cell_type": "code",
   "execution_count": 19,
   "id": "084fae41",
   "metadata": {},
   "outputs": [
    {
     "name": "stdout",
     "output_type": "stream",
     "text": [
      "First strike\n",
      "When Aether Chaser enters the battlefield, you get  (two energy counters).\n",
      "Whenever Aether Chaser attacks, you may pay . If you do, create a 1/1 colorless Servo artifact creature token.\n"
     ]
    }
   ],
   "source": [
    "for i, P_tag in enumerate(rules_text_list):\n",
    "    print(P_tag.text)"
   ]
  },
  {
   "cell_type": "code",
   "execution_count": 18,
   "id": "4dbd5d17",
   "metadata": {
    "scrolled": true
   },
   "outputs": [
    {
     "name": "stdout",
     "output_type": "stream",
     "text": [
      "<p>First strike</p>\n",
      "<p>When Aether Chaser enters the battlefield, you get <img align=\"absbottom\" alt=\"Energy\" src=\"/Handlers/Image.ashx?size=small&amp;name=e&amp;type=symbol\"/><img align=\"absbottom\" alt=\"Energy\" src=\"/Handlers/Image.ashx?size=small&amp;name=e&amp;type=symbol\"/> <i>(two energy counters)</i>.</p>\n",
      "<p>Whenever Aether Chaser attacks, you may pay <img align=\"absbottom\" alt=\"Energy\" src=\"/Handlers/Image.ashx?size=small&amp;name=e&amp;type=symbol\"/><img align=\"absbottom\" alt=\"Energy\" src=\"/Handlers/Image.ashx?size=small&amp;name=e&amp;type=symbol\"/>. If you do, create a 1/1 colorless Servo artifact creature token.</p>\n"
     ]
    }
   ],
   "source": [
    "for i, P_tag in enumerate(rules_text_list):\n",
    "    print(P_tag)"
   ]
  },
  {
   "cell_type": "code",
   "execution_count": 23,
   "id": "0f9891b9",
   "metadata": {},
   "outputs": [
    {
     "name": "stdout",
     "output_type": "stream",
     "text": [
      "{Energy}\n",
      "{Energy}\n"
     ]
    }
   ],
   "source": [
    "symbol_type = rules_text_list[1].find('img').attrs['alt']\n",
    "\n",
    "num_symbols = len(rules_text_list[1].find_all('img'))\n",
    "symbol_tag_text = rules_text_list[1].find_all('img')\n",
    "\n",
    "clean_symbol = symbol_rename_dict[f'{symbol_type}']\n",
    "\n",
    "for i in range(num_symbols):\n",
    "    print(clean_symbol)"
   ]
  },
  {
   "cell_type": "code",
   "execution_count": 54,
   "id": "3f0ac76c",
   "metadata": {},
   "outputs": [
    {
     "data": {
      "text/plain": [
       "[<img align=\"absbottom\" alt=\"Energy\" src=\"/Handlers/Image.ashx?size=small&amp;name=e&amp;type=symbol\"/>,\n",
       " <img align=\"absbottom\" alt=\"Energy\" src=\"/Handlers/Image.ashx?size=small&amp;name=e&amp;type=symbol\"/>]"
      ]
     },
     "execution_count": 54,
     "metadata": {},
     "output_type": "execute_result"
    }
   ],
   "source": [
    "symbol_tag_text"
   ]
  },
  {
   "cell_type": "code",
   "execution_count": 55,
   "id": "683d92e5",
   "metadata": {},
   "outputs": [
    {
     "data": {
      "text/plain": [
       "[<p>First strike</p>,\n",
       " <p>When Aether Chaser enters the battlefield, you get <img align=\"absbottom\" alt=\"Energy\" src=\"/Handlers/Image.ashx?size=small&amp;name=e&amp;type=symbol\"/><img align=\"absbottom\" alt=\"Energy\" src=\"/Handlers/Image.ashx?size=small&amp;name=e&amp;type=symbol\"/> <i>(two energy counters)</i>.</p>,\n",
       " <p>Whenever Aether Chaser attacks, you may pay <img align=\"absbottom\" alt=\"Energy\" src=\"/Handlers/Image.ashx?size=small&amp;name=e&amp;type=symbol\"/><img align=\"absbottom\" alt=\"Energy\" src=\"/Handlers/Image.ashx?size=small&amp;name=e&amp;type=symbol\"/>. If you do, create a 1/1 colorless Servo artifact creature token.</p>]"
      ]
     },
     "execution_count": 55,
     "metadata": {},
     "output_type": "execute_result"
    }
   ],
   "source": [
    "rules_text_list"
   ]
  },
  {
   "cell_type": "code",
   "execution_count": null,
   "id": "e159b652",
   "metadata": {},
   "outputs": [],
   "source": []
  },
  {
   "cell_type": "code",
   "execution_count": null,
   "id": "85b87f6d",
   "metadata": {},
   "outputs": [],
   "source": []
  },
  {
   "cell_type": "code",
   "execution_count": null,
   "id": "b2340ed4",
   "metadata": {},
   "outputs": [],
   "source": []
  },
  {
   "cell_type": "code",
   "execution_count": null,
   "id": "d8f52f06",
   "metadata": {},
   "outputs": [],
   "source": []
  },
  {
   "cell_type": "code",
   "execution_count": null,
   "id": "6184111c",
   "metadata": {},
   "outputs": [],
   "source": []
  },
  {
   "cell_type": "markdown",
   "id": "2ec20ff4",
   "metadata": {},
   "source": [
    "## Rules Text Cleaning - Symbols\n",
    "\n",
    "thoughts on cleaning card rules for symbols\n",
    "\n",
    "search all HTML for <img> in rules text\n",
    "develop a means of transplanting the words for the symbols.\n",
    "\n",
    ".split each <p> via '.' and then insert words where the symbols would be."
   ]
  },
  {
   "cell_type": "markdown",
   "id": "5f533e7b",
   "metadata": {},
   "source": [
    "## Page Navigation:\n",
    "\n",
    "find last number on list of page nav numbers, make iterable logoc for parsing pages\n",
    "\n",
    "for card_set in set_list:\n",
    "    for card in card_set:"
   ]
  },
  {
   "cell_type": "code",
   "execution_count": null,
   "id": "5272b732",
   "metadata": {},
   "outputs": [],
   "source": []
  },
  {
   "cell_type": "code",
   "execution_count": null,
   "id": "a0db7e21",
   "metadata": {},
   "outputs": [],
   "source": []
  },
  {
   "cell_type": "code",
   "execution_count": null,
   "id": "0d98016d",
   "metadata": {},
   "outputs": [],
   "source": []
  },
  {
   "cell_type": "code",
   "execution_count": null,
   "id": "af0c58c2",
   "metadata": {},
   "outputs": [],
   "source": []
  },
  {
   "cell_type": "code",
   "execution_count": null,
   "id": "cfcf62e5",
   "metadata": {},
   "outputs": [],
   "source": []
  },
  {
   "cell_type": "code",
   "execution_count": null,
   "id": "430eb613",
   "metadata": {},
   "outputs": [],
   "source": []
  },
  {
   "cell_type": "code",
   "execution_count": null,
   "id": "aa7432c2",
   "metadata": {},
   "outputs": [],
   "source": []
  },
  {
   "cell_type": "code",
   "execution_count": null,
   "id": "6cdb65b0",
   "metadata": {},
   "outputs": [],
   "source": []
  },
  {
   "cell_type": "code",
   "execution_count": null,
   "id": "d135e111",
   "metadata": {},
   "outputs": [],
   "source": []
  },
  {
   "cell_type": "code",
   "execution_count": null,
   "id": "1b58d028",
   "metadata": {},
   "outputs": [],
   "source": []
  },
  {
   "cell_type": "code",
   "execution_count": null,
   "id": "386e062d",
   "metadata": {},
   "outputs": [],
   "source": []
  },
  {
   "cell_type": "code",
   "execution_count": null,
   "id": "7c58970e",
   "metadata": {},
   "outputs": [],
   "source": []
  },
  {
   "cell_type": "code",
   "execution_count": null,
   "id": "2c7d4821",
   "metadata": {},
   "outputs": [],
   "source": [
    "https://gatherer.wizards.com/Pages/Search/Default.aspx?set=[%22Aether+Revolt%22]"
   ]
  },
  {
   "cell_type": "code",
   "execution_count": null,
   "id": "22c205c8",
   "metadata": {},
   "outputs": [],
   "source": []
  },
  {
   "cell_type": "code",
   "execution_count": 49,
   "id": "c3a286d1",
   "metadata": {},
   "outputs": [
    {
     "data": {
      "text/plain": [
       "'4_W_G'"
      ]
     },
     "execution_count": 49,
     "metadata": {},
     "output_type": "execute_result"
    }
   ],
   "source": []
  },
  {
   "cell_type": "code",
   "execution_count": null,
   "id": "ec4e82a9",
   "metadata": {},
   "outputs": [],
   "source": []
  },
  {
   "cell_type": "code",
   "execution_count": null,
   "id": "386628bc",
   "metadata": {},
   "outputs": [],
   "source": []
  },
  {
   "cell_type": "markdown",
   "id": "620e3910",
   "metadata": {},
   "source": [
    "wizards.gatherer doesnt return all cards in a set.\n",
    "\n",
    "- find out why\n",
    "- find another means of obtaining the information i.e. the names of all cards in a set\n",
    "\n",
    "take set_list and build a dictionary off of it\n",
    "\n",
    "\n",
    "set_name_list = \n",
    "    card_name = {\n",
    "        'card_name' : ,\n",
    "        'set_name' : ,\n",
    "        'cost' : ,\n",
    "        'CMC' : ,\n",
    "        'type' : ,\n",
    "        'subtype' : ,\n",
    "        'power' : ,\n",
    "        'toughness' : ,\n",
    "        'rules_text' : ,\n",
    "        'flavor_text' : ,\n",
    "        'link_to_rules' : ,\n",
    "        'link_to_photo' : ,\n",
    "     },\n",
    "     card_name = {\n",
    "        'card_name' : ,\n",
    "        'set_name' : ,\n",
    "        'cost' : ,\n",
    "        'CMC' : ,\n",
    "        'type' : ,\n",
    "        'subtype' : ,\n",
    "        'power' : ,\n",
    "        'toughness' : ,\n",
    "        'rules_text' : ,\n",
    "        'flavor_text' : ,\n",
    "        'link_to_rules' : ,\n",
    "        'link_to_photo' : ,\n",
    "     },\n",
    "]"
   ]
  },
  {
   "cell_type": "markdown",
   "id": "c94c7ddb",
   "metadata": {},
   "source": [
    "Thoughts on change of application:\n",
    "\n",
    "have app deployed to heroku to display cards and rule at search request from user\n",
    "also display some neato card combos or potentially, any combinations that do janky stuff\n",
    "\n",
    "first find a list of all cards\n",
    "\n",
    "scrape contentm including photo\n",
    "\n",
    "save to mongo? (text only, incl. link to wizards.gatherer.com)\n",
    "\n",
    "The thing that I want is a faster means of loading the rules descriptions found below cards for understand what goes on in niche moments when two+ rules combine.\n",
    "\n",
    "consider estabilishing a means of implanting reminder text for all entries after decoding/parsing the descriptions of the cards.\n",
    "\n",
    "ability_dict = {\n",
    "    'ability_name' : this is the name of the ability, e.g. 'Revolt' ,\n",
    "    'ability_description' : (this is where the reminder text will go),\n",
    "}\n",
    "\n",
    "for ability in ability_list:\n",
    "    if ability in ability_descriptions:\n",
    "        ability_reminder = \"ability\" + \"(reminder text from rules descriptions)\"\n",
    "\n",
    "\n",
    "DF layout\n",
    "set_name, card_name, cost, CMC, type, subtype, power, toughness, card_rules, flavor_text, link_to_wizards.gatherer\n",
    "\n",
    "JSON layout\n",
    "\n",
    "cardname={\n",
    "    'cardname' : ,\n",
    "    'set_name' : ,\n",
    "    'cost' : ,\n",
    "    'CMC' : ,\n",
    "    'type' : ,\n",
    "    'subtype' : ,\n",
    "    'power' : ,\n",
    "    'toughness' : ,\n",
    "    'rules_text' : ,\n",
    "    'flavor_text' : ,\n",
    "    'link_to_rules' : ,\n",
    "    'link_to_photo' : ,\n",
    "}"
   ]
  },
  {
   "cell_type": "code",
   "execution_count": null,
   "id": "3a47dc4a",
   "metadata": {},
   "outputs": [],
   "source": []
  },
  {
   "cell_type": "code",
   "execution_count": null,
   "id": "ada0d734",
   "metadata": {},
   "outputs": [],
   "source": []
  },
  {
   "cell_type": "code",
   "execution_count": null,
   "id": "d4edc2d7",
   "metadata": {},
   "outputs": [],
   "source": []
  },
  {
   "cell_type": "code",
   "execution_count": null,
   "id": "2c3bd304",
   "metadata": {},
   "outputs": [],
   "source": []
  },
  {
   "cell_type": "code",
   "execution_count": null,
   "id": "4fc3a136",
   "metadata": {},
   "outputs": [],
   "source": []
  },
  {
   "cell_type": "code",
   "execution_count": null,
   "id": "f3ce2b69",
   "metadata": {},
   "outputs": [],
   "source": []
  },
  {
   "cell_type": "code",
   "execution_count": null,
   "id": "397945e7",
   "metadata": {},
   "outputs": [],
   "source": []
  },
  {
   "cell_type": "code",
   "execution_count": null,
   "id": "f4ebcfd5",
   "metadata": {},
   "outputs": [],
   "source": []
  },
  {
   "cell_type": "code",
   "execution_count": null,
   "id": "37a77af7",
   "metadata": {},
   "outputs": [],
   "source": []
  }
 ],
 "metadata": {
  "kernelspec": {
   "display_name": "Python 3",
   "language": "python",
   "name": "python3"
  },
  "language_info": {
   "codemirror_mode": {
    "name": "ipython",
    "version": 3
   },
   "file_extension": ".py",
   "mimetype": "text/x-python",
   "name": "python",
   "nbconvert_exporter": "python",
   "pygments_lexer": "ipython3",
   "version": "3.8.8"
  }
 },
 "nbformat": 4,
 "nbformat_minor": 5
}
